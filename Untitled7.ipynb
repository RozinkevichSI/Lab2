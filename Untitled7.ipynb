{
  "nbformat": 4,
  "nbformat_minor": 0,
  "metadata": {
    "colab": {
      "provenance": [],
      "authorship_tag": "ABX9TyPb/acAc56pTCqi6m8qfxtd",
      "include_colab_link": true
    },
    "kernelspec": {
      "name": "python3",
      "display_name": "Python 3"
    },
    "language_info": {
      "name": "python"
    }
  },
  "cells": [
    {
      "cell_type": "markdown",
      "metadata": {
        "id": "view-in-github",
        "colab_type": "text"
      },
      "source": [
        "<a href=\"https://colab.research.google.com/github/RozinkevichSI/Lab2/blob/main/Untitled7.ipynb\" target=\"_parent\"><img src=\"https://colab.research.google.com/assets/colab-badge.svg\" alt=\"Open In Colab\"/></a>"
      ]
    },
    {
      "cell_type": "code",
      "source": [
        "!pip install xgboost scikit-learn joblib pandas numpy fastapi uvicorn pyngrok"
      ],
      "metadata": {
        "colab": {
          "base_uri": "https://localhost:8080/"
        },
        "id": "wL2YIhYUuhpF",
        "outputId": "595e62f4-19bd-42a1-8479-25556e79d8cb"
      },
      "execution_count": 1,
      "outputs": [
        {
          "output_type": "stream",
          "name": "stdout",
          "text": [
            "Requirement already satisfied: xgboost in /usr/local/lib/python3.11/dist-packages (2.1.4)\n",
            "Requirement already satisfied: scikit-learn in /usr/local/lib/python3.11/dist-packages (1.6.1)\n",
            "Requirement already satisfied: joblib in /usr/local/lib/python3.11/dist-packages (1.5.0)\n",
            "Requirement already satisfied: pandas in /usr/local/lib/python3.11/dist-packages (2.2.2)\n",
            "Requirement already satisfied: numpy in /usr/local/lib/python3.11/dist-packages (2.0.2)\n",
            "Collecting fastapi\n",
            "  Downloading fastapi-0.115.12-py3-none-any.whl.metadata (27 kB)\n",
            "Collecting uvicorn\n",
            "  Downloading uvicorn-0.34.2-py3-none-any.whl.metadata (6.5 kB)\n",
            "Collecting pyngrok\n",
            "  Downloading pyngrok-7.2.8-py3-none-any.whl.metadata (10 kB)\n",
            "Requirement already satisfied: nvidia-nccl-cu12 in /usr/local/lib/python3.11/dist-packages (from xgboost) (2.21.5)\n",
            "Requirement already satisfied: scipy in /usr/local/lib/python3.11/dist-packages (from xgboost) (1.15.3)\n",
            "Requirement already satisfied: threadpoolctl>=3.1.0 in /usr/local/lib/python3.11/dist-packages (from scikit-learn) (3.6.0)\n",
            "Requirement already satisfied: python-dateutil>=2.8.2 in /usr/local/lib/python3.11/dist-packages (from pandas) (2.9.0.post0)\n",
            "Requirement already satisfied: pytz>=2020.1 in /usr/local/lib/python3.11/dist-packages (from pandas) (2025.2)\n",
            "Requirement already satisfied: tzdata>=2022.7 in /usr/local/lib/python3.11/dist-packages (from pandas) (2025.2)\n",
            "Collecting starlette<0.47.0,>=0.40.0 (from fastapi)\n",
            "  Downloading starlette-0.46.2-py3-none-any.whl.metadata (6.2 kB)\n",
            "Requirement already satisfied: pydantic!=1.8,!=1.8.1,!=2.0.0,!=2.0.1,!=2.1.0,<3.0.0,>=1.7.4 in /usr/local/lib/python3.11/dist-packages (from fastapi) (2.11.4)\n",
            "Requirement already satisfied: typing-extensions>=4.8.0 in /usr/local/lib/python3.11/dist-packages (from fastapi) (4.13.2)\n",
            "Requirement already satisfied: click>=7.0 in /usr/local/lib/python3.11/dist-packages (from uvicorn) (8.1.8)\n",
            "Requirement already satisfied: h11>=0.8 in /usr/local/lib/python3.11/dist-packages (from uvicorn) (0.16.0)\n",
            "Requirement already satisfied: PyYAML>=5.1 in /usr/local/lib/python3.11/dist-packages (from pyngrok) (6.0.2)\n",
            "Requirement already satisfied: annotated-types>=0.6.0 in /usr/local/lib/python3.11/dist-packages (from pydantic!=1.8,!=1.8.1,!=2.0.0,!=2.0.1,!=2.1.0,<3.0.0,>=1.7.4->fastapi) (0.7.0)\n",
            "Requirement already satisfied: pydantic-core==2.33.2 in /usr/local/lib/python3.11/dist-packages (from pydantic!=1.8,!=1.8.1,!=2.0.0,!=2.0.1,!=2.1.0,<3.0.0,>=1.7.4->fastapi) (2.33.2)\n",
            "Requirement already satisfied: typing-inspection>=0.4.0 in /usr/local/lib/python3.11/dist-packages (from pydantic!=1.8,!=1.8.1,!=2.0.0,!=2.0.1,!=2.1.0,<3.0.0,>=1.7.4->fastapi) (0.4.0)\n",
            "Requirement already satisfied: six>=1.5 in /usr/local/lib/python3.11/dist-packages (from python-dateutil>=2.8.2->pandas) (1.17.0)\n",
            "Requirement already satisfied: anyio<5,>=3.6.2 in /usr/local/lib/python3.11/dist-packages (from starlette<0.47.0,>=0.40.0->fastapi) (4.9.0)\n",
            "Requirement already satisfied: idna>=2.8 in /usr/local/lib/python3.11/dist-packages (from anyio<5,>=3.6.2->starlette<0.47.0,>=0.40.0->fastapi) (3.10)\n",
            "Requirement already satisfied: sniffio>=1.1 in /usr/local/lib/python3.11/dist-packages (from anyio<5,>=3.6.2->starlette<0.47.0,>=0.40.0->fastapi) (1.3.1)\n",
            "Downloading fastapi-0.115.12-py3-none-any.whl (95 kB)\n",
            "\u001b[2K   \u001b[90m━━━━━━━━━━━━━━━━━━━━━━━━━━━━━━━━━━━━━━━━\u001b[0m \u001b[32m95.2/95.2 kB\u001b[0m \u001b[31m3.0 MB/s\u001b[0m eta \u001b[36m0:00:00\u001b[0m\n",
            "\u001b[?25hDownloading uvicorn-0.34.2-py3-none-any.whl (62 kB)\n",
            "\u001b[2K   \u001b[90m━━━━━━━━━━━━━━━━━━━━━━━━━━━━━━━━━━━━━━━━\u001b[0m \u001b[32m62.5/62.5 kB\u001b[0m \u001b[31m3.3 MB/s\u001b[0m eta \u001b[36m0:00:00\u001b[0m\n",
            "\u001b[?25hDownloading pyngrok-7.2.8-py3-none-any.whl (25 kB)\n",
            "Downloading starlette-0.46.2-py3-none-any.whl (72 kB)\n",
            "\u001b[2K   \u001b[90m━━━━━━━━━━━━━━━━━━━━━━━━━━━━━━━━━━━━━━━━\u001b[0m \u001b[32m72.0/72.0 kB\u001b[0m \u001b[31m4.8 MB/s\u001b[0m eta \u001b[36m0:00:00\u001b[0m\n",
            "\u001b[?25hInstalling collected packages: uvicorn, pyngrok, starlette, fastapi\n",
            "Successfully installed fastapi-0.115.12 pyngrok-7.2.8 starlette-0.46.2 uvicorn-0.34.2\n"
          ]
        }
      ]
    },
    {
      "cell_type": "code",
      "source": [
        "from google.colab import drive\n",
        "drive.mount('/content/drive')\n"
      ],
      "metadata": {
        "colab": {
          "base_uri": "https://localhost:8080/"
        },
        "id": "9iNhFkJyu2IR",
        "outputId": "821fc423-4696-4f0f-ca74-f43cb2e1bf4c"
      },
      "execution_count": 2,
      "outputs": [
        {
          "output_type": "stream",
          "name": "stdout",
          "text": [
            "Mounted at /content/drive\n"
          ]
        }
      ]
    },
    {
      "cell_type": "code",
      "source": [
        "import pandas as pd\n",
        "from sklearn.model_selection import train_test_split\n",
        "# Загрузка данных\n",
        "file_path = '/content/drive/MyDrive/Laptop_price.csv'\n",
        "df = pd.read_csv(file_path)\n",
        "# Разделение данных на признаки и целевую переменную\n",
        "X = df.drop(columns=['Price'])\n",
        "y = df['Price']\n",
        "# Разбиение данных на обучающую и тестовую выборки\n",
        "X_train, X_test, y_train, y_test = train_test_split(X, y, test_size=0.2, random_state=42)\n"
      ],
      "metadata": {
        "id": "3TNrYIDzvSoX"
      },
      "execution_count": 3,
      "outputs": []
    },
    {
      "cell_type": "code",
      "source": [
        "import pandas as pd\n",
        "from sklearn.model_selection import train_test_split\n",
        "from sklearn.pipeline import Pipeline\n",
        "from sklearn.compose import ColumnTransformer\n",
        "from sklearn.preprocessing import StandardScaler, OneHotEncoder\n",
        "from sklearn.impute import SimpleImputer\n",
        "from xgboost import XGBRegressor\n",
        "import joblib\n",
        "# Загрузка данных\n",
        "file_path = '/content/drive/MyDrive/Laptop_price.csv'\n",
        "df = pd.read_csv(file_path)\n",
        "# Разделение данных на признаки и целевую переменную\n",
        "X = df.drop(columns=['Price'])\n",
        "y = df['Price']\n",
        "# Определение числовых и категориальных признаков\n",
        "num_features = X.select_dtypes(include=['int64', 'float64']).columns.tolist()\n",
        "cat_features = X.select_dtypes(include=['object']).columns.tolist()\n",
        "# Создание трансформеров для числовых и категориальных данных\n",
        "num_transformer = Pipeline(steps=[\n",
        "    ('imputer', SimpleImputer(strategy='median')),  # Заполнение пропусков медианой\n",
        "    ('scaler', StandardScaler())                    # Стандартизация\n",
        "])\n",
        "cat_transformer = Pipeline(steps=[\n",
        "    ('imputer', SimpleImputer(strategy='most_frequent')),  # Заполнение пропусков наиболее частым значением\n",
        "    ('encoder', OneHotEncoder(handle_unknown='ignore'))    # Кодирование категориальных переменных\n",
        "])\n",
        "# Объединение трансформеров в ColumnTransformer\n",
        "preprocessor = ColumnTransformer(transformers=[\n",
        "    ('num', num_transformer, num_features),  # Применение числового трансформера к числовым признакам\n",
        "    ('cat', cat_transformer, cat_features)     # Применение категориального трансформера к категориальным признакам\n",
        "])\n",
        "# Создание полного пайплайна с моделью\n",
        "pipeline = Pipeline(steps=[\n",
        "    ('preprocessor', preprocessor),\n",
        "    ('model', XGBRegressor(n_estimators=100, learning_rate=0.1, max_depth=5))  # Настройка модели XGBoost\n",
        "])\n",
        "# Разделение данных на обучающую и тестовую выборки\n",
        "X_train, X_test, y_train, y_test = train_test_split(X, y, test_size=0.2, random_state=42)\n",
        "# Обучение модели\n",
        "pipeline.fit(X_train, y_train)\n",
        "# Оценка модели на тестовой выборке\n",
        "score = pipeline.score(X_test, y_test)\n",
        "print(f'R^2 score: {score:.2f}')\n",
        "# Сохранение модели в файл\n",
        "joblib.dump(pipeline, '/content/drive/MyDrive/laptop_price_model.pkl')\n"
      ],
      "metadata": {
        "colab": {
          "base_uri": "https://localhost:8080/"
        },
        "id": "t8VsH-QfvhFu",
        "outputId": "58238948-98e6-497b-d691-3d3d5f84a600"
      },
      "execution_count": 4,
      "outputs": [
        {
          "output_type": "stream",
          "name": "stdout",
          "text": [
            "R^2 score: 1.00\n"
          ]
        },
        {
          "output_type": "execute_result",
          "data": {
            "text/plain": [
              "['/content/drive/MyDrive/laptop_price_model.pkl']"
            ]
          },
          "metadata": {},
          "execution_count": 4
        }
      ]
    },
    {
      "cell_type": "code",
      "source": [
        "!git init"
      ],
      "metadata": {
        "colab": {
          "base_uri": "https://localhost:8080/"
        },
        "id": "wq8jmr4fvwOb",
        "outputId": "266de818-ec5c-4e8e-c597-db61e2b9236d"
      },
      "execution_count": 5,
      "outputs": [
        {
          "output_type": "stream",
          "name": "stdout",
          "text": [
            "\u001b[33mhint: Using 'master' as the name for the initial branch. This default branch name\u001b[m\n",
            "\u001b[33mhint: is subject to change. To configure the initial branch name to use in all\u001b[m\n",
            "\u001b[33mhint: of your new repositories, which will suppress this warning, call:\u001b[m\n",
            "\u001b[33mhint: \u001b[m\n",
            "\u001b[33mhint: \tgit config --global init.defaultBranch <name>\u001b[m\n",
            "\u001b[33mhint: \u001b[m\n",
            "\u001b[33mhint: Names commonly chosen instead of 'master' are 'main', 'trunk' and\u001b[m\n",
            "\u001b[33mhint: 'development'. The just-created branch can be renamed via this command:\u001b[m\n",
            "\u001b[33mhint: \u001b[m\n",
            "\u001b[33mhint: \tgit branch -m <name>\u001b[m\n",
            "Initialized empty Git repository in /content/.git/\n"
          ]
        }
      ]
    },
    {
      "cell_type": "code",
      "source": [
        "!git branch -m main"
      ],
      "metadata": {
        "id": "Vrlbfb58v155"
      },
      "execution_count": 6,
      "outputs": []
    },
    {
      "cell_type": "code",
      "source": [
        "!git config --global user.email \"stanislaw.roz@mail.ru\"\n",
        "!git config --global user.name \"RozinkevichSI\"\n"
      ],
      "metadata": {
        "id": "YTw0IiIbv5Oa"
      },
      "execution_count": 7,
      "outputs": []
    },
    {
      "cell_type": "code",
      "source": [
        "!git add .\n",
        "!git commit -m \"Добавлен ML-пайплайн\"\n"
      ],
      "metadata": {
        "colab": {
          "base_uri": "https://localhost:8080/"
        },
        "id": "picB9DZawmVC",
        "outputId": "8aae6113-915e-4eaa-f36a-9ac7b068f55b"
      },
      "execution_count": 8,
      "outputs": [
        {
          "output_type": "stream",
          "name": "stdout",
          "text": [
            "[main (root-commit) 0bc6fc2] Добавлен ML-пайплайн\n",
            " 39 files changed, 53481 insertions(+)\n",
            " create mode 100644 .config/.last_opt_in_prompt.yaml\n",
            " create mode 100644 .config/.last_survey_prompt.yaml\n",
            " create mode 100644 .config/.last_update_check.json\n",
            " create mode 100644 .config/active_config\n",
            " create mode 100644 .config/config_sentinel\n",
            " create mode 100644 .config/configurations/config_default\n",
            " create mode 100644 .config/default_configs.db\n",
            " create mode 100644 .config/gce\n",
            " create mode 100644 .config/hidden_gcloud_config_universe_descriptor_data_cache_configs.db\n",
            " create mode 100644 .config/logs/2025.05.12/13.36.34.925125.log\n",
            " create mode 100644 .config/logs/2025.05.12/13.36.58.869156.log\n",
            " create mode 100644 .config/logs/2025.05.12/13.37.07.817575.log\n",
            " create mode 100644 .config/logs/2025.05.12/13.37.09.418759.log\n",
            " create mode 100644 .config/logs/2025.05.12/13.37.18.051962.log\n",
            " create mode 100644 .config/logs/2025.05.12/13.37.18.758811.log\n",
            " create mode 100644 drive/MyDrive/Colab Notebooks/BorisovVD.ITIP.LAB2.ipynb\n",
            " create mode 100644 drive/MyDrive/Colab Notebooks/ITIP.LAB2.ROZINKEVICHSI.YBVT2305.ipynb\n",
            " create mode 100644 drive/MyDrive/Colab Notebooks/Untitled\n",
            " create mode 100644 drive/MyDrive/Colab Notebooks/Untitled (1)\n",
            " create mode 100644 drive/MyDrive/Colab Notebooks/Untitled (2)\n",
            " create mode 100644 drive/MyDrive/Colab Notebooks/Untitled (3)\n",
            " create mode 100644 drive/MyDrive/Colab Notebooks/Untitled0.ipynb\n",
            " create mode 100644 drive/MyDrive/Colab Notebooks/Untitled1 (1) (1).ipynb\n",
            " create mode 100644 drive/MyDrive/Colab Notebooks/Untitled1 (1).ipynb\n",
            " create mode 100644 drive/MyDrive/Colab Notebooks/Untitled1.ipynb\n",
            " create mode 100644 drive/MyDrive/Colab Notebooks/Untitled2.ipynb\n",
            " create mode 100644 drive/MyDrive/Colab Notebooks/Untitled3.ipynb\n",
            " create mode 100644 drive/MyDrive/Colab Notebooks/Untitled4.ipynb\n",
            " create mode 100644 drive/MyDrive/Colab Notebooks/Untitled5.ipynb\n",
            " create mode 100644 drive/MyDrive/Colab Notebooks/Untitled6.ipynb\n",
            " create mode 100644 drive/MyDrive/Colab Notebooks/Untitled7.ipynb\n",
            " create mode 100644 drive/MyDrive/Laptop_price.csv\n",
            " create mode 100644 drive/MyDrive/laptop_price_model.pkl\n",
            " create mode 100755 sample_data/README.md\n",
            " create mode 100755 sample_data/anscombe.json\n",
            " create mode 100644 sample_data/california_housing_test.csv\n",
            " create mode 100644 sample_data/california_housing_train.csv\n",
            " create mode 100644 sample_data/mnist_test.csv\n",
            " create mode 100644 sample_data/mnist_train_small.csv\n"
          ]
        }
      ]
    },
    {
      "cell_type": "code",
      "source": [
        "!ssh-keygen -t rsa -b 4096 -C stanislaw.roz@mail.ru"
      ],
      "metadata": {
        "colab": {
          "base_uri": "https://localhost:8080/"
        },
        "id": "8hSMYpVqw-rZ",
        "outputId": "58231b25-06af-4e79-e1a3-19a5e8ff6412"
      },
      "execution_count": 9,
      "outputs": [
        {
          "output_type": "stream",
          "name": "stdout",
          "text": [
            "Generating public/private rsa key pair.\n",
            "Enter file in which to save the key (/root/.ssh/id_rsa): \n",
            "Created directory '/root/.ssh'.\n",
            "Enter passphrase (empty for no passphrase): \n",
            "Enter same passphrase again: \n",
            "Your identification has been saved in /root/.ssh/id_rsa\n",
            "Your public key has been saved in /root/.ssh/id_rsa.pub\n",
            "The key fingerprint is:\n",
            "SHA256:dUmIiHgUPkI/jlu4omYmCux00E7GlJFWQiN43ue9Muk stanislaw.roz@mail.ru\n",
            "The key's randomart image is:\n",
            "+---[RSA 4096]----+\n",
            "|..oB=+ . . ..    |\n",
            "|..+=B . . .. .   |\n",
            "| oo==     . o    |\n",
            "|  ==.o.  . .     |\n",
            "| .o=oo .S        |\n",
            "|. =+  . .        |\n",
            "|oooo   . .       |\n",
            "|*=.   + .        |\n",
            "|O.   .Eo         |\n",
            "+----[SHA256]-----+\n"
          ]
        }
      ]
    },
    {
      "cell_type": "code",
      "source": [
        "!cat ~/.ssh/id_rsa.pub\n"
      ],
      "metadata": {
        "colab": {
          "base_uri": "https://localhost:8080/"
        },
        "id": "9Ai2JitGxW8R",
        "outputId": "f6712ec1-5147-4f3f-dc4a-dbbaa9bdfccf"
      },
      "execution_count": 10,
      "outputs": [
        {
          "output_type": "stream",
          "name": "stdout",
          "text": [
            "ssh-rsa AAAAB3NzaC1yc2EAAAADAQABAAACAQCgYTMGh2zaFUhIHsZ55oKCSRcCaaSdC0MUiEtcq+70Pk3z75J2PD/bS66sMIYA3AHY3sXzwP0P35mV81R48tMuA6TFh5aKV10DV1rVMjXAZykWdG91L/JPFxvc5u4x8+2IRgBwZZIsGKyR52vR1rZF9Pk54Z2GenzEoPR/SHGYnjlqLyktE0RZKVe107jmL0se6hVFfZr4wJ6W6axZ2NeXhptPz3XsQG7uevpXQr4J7LcvTNREa8v4CI4bCYLfnoEE9HRB52xbwi/mqS7Pu331qesEWTY/kRICnQ4K3OOKtOVeh/s04uBGvQchR+bChmHYoD9SSl/YmhmaaJk0J0vAUnwXo5IjRRg/RvRSJMerc2Ps+zxJ1BnsSSdz0ccfRsX+NzoYylTwRlnzFsiDVDx9DyckRW8QP/KBPvEtFN2ONEu5WCiWo4pJBErs2vs0Iy3Mtzdm752aH8TF+hOsaIi4hF8iQwrowyxvX/jpglnozDSsYupG2gsf9oVyiL5Z4ZoocxUXBptNlhbqXGBURNfHhXJEpMnGpf4gKR4ff6AXpLXqB2YtCD8UL3LyYx6b+8mvlPlGPzSdqfP4KoXLu1b3idKcJy6RkXEEScW1AEFuNxhgjjjuGADwwN30lszb7Q+2pRvj2ZV81TYwqTz4ztsjh+SbWjBLRhXs7uFVkbwS9w== stanislaw.roz@mail.ru\n"
          ]
        }
      ]
    },
    {
      "cell_type": "code",
      "source": [
        "!git remote set-url origin git@github.com:RozinkevichSI/prakt1.git"
      ],
      "metadata": {
        "id": "LP08_kro3Wre"
      },
      "execution_count": 15,
      "outputs": []
    },
    {
      "cell_type": "code",
      "source": [
        "!echo -e \"Host github.com\\n\\tStrictHostKeyChecking no\\n\" >> /root/.ssh/config"
      ],
      "metadata": {
        "id": "u6ShFtlN3n24"
      },
      "execution_count": 16,
      "outputs": []
    },
    {
      "cell_type": "code",
      "source": [
        "!chmod 600 /root/.ssh/id_rsa"
      ],
      "metadata": {
        "id": "LPjHcH253u1y"
      },
      "execution_count": 18,
      "outputs": []
    },
    {
      "cell_type": "code",
      "source": [
        "!git clone git@github.com:RozinkevichSI/prakt1.git"
      ],
      "metadata": {
        "colab": {
          "base_uri": "https://localhost:8080/"
        },
        "id": "FNn7g-BD30Ul",
        "outputId": "d7e0558f-ff16-4839-e10b-ca5beb189703"
      },
      "execution_count": 26,
      "outputs": [
        {
          "output_type": "stream",
          "name": "stdout",
          "text": [
            "fatal: destination path 'prakt1' already exists and is not an empty directory.\n"
          ]
        }
      ]
    },
    {
      "cell_type": "code",
      "source": [
        "!ssh -T git@github.com"
      ],
      "metadata": {
        "colab": {
          "base_uri": "https://localhost:8080/"
        },
        "id": "EG0Y-AkS4CbY",
        "outputId": "790473b6-5fe2-420a-f6d3-0e9d580747d4"
      },
      "execution_count": 20,
      "outputs": [
        {
          "output_type": "stream",
          "name": "stdout",
          "text": [
            "Hi RozinkevichSI! You've successfully authenticated, but GitHub does not provide shell access.\n"
          ]
        }
      ]
    },
    {
      "cell_type": "code",
      "source": [
        "!pip install fastapi uvicorn python-multipart pyngrok"
      ],
      "metadata": {
        "colab": {
          "base_uri": "https://localhost:8080/"
        },
        "id": "kDHuF43w4IJT",
        "outputId": "42415eb1-204b-45bd-8d54-318140cc0090"
      },
      "execution_count": 21,
      "outputs": [
        {
          "output_type": "stream",
          "name": "stdout",
          "text": [
            "Requirement already satisfied: fastapi in /usr/local/lib/python3.11/dist-packages (0.115.12)\n",
            "Requirement already satisfied: uvicorn in /usr/local/lib/python3.11/dist-packages (0.34.2)\n",
            "Collecting python-multipart\n",
            "  Downloading python_multipart-0.0.20-py3-none-any.whl.metadata (1.8 kB)\n",
            "Requirement already satisfied: pyngrok in /usr/local/lib/python3.11/dist-packages (7.2.8)\n",
            "Requirement already satisfied: starlette<0.47.0,>=0.40.0 in /usr/local/lib/python3.11/dist-packages (from fastapi) (0.46.2)\n",
            "Requirement already satisfied: pydantic!=1.8,!=1.8.1,!=2.0.0,!=2.0.1,!=2.1.0,<3.0.0,>=1.7.4 in /usr/local/lib/python3.11/dist-packages (from fastapi) (2.11.4)\n",
            "Requirement already satisfied: typing-extensions>=4.8.0 in /usr/local/lib/python3.11/dist-packages (from fastapi) (4.13.2)\n",
            "Requirement already satisfied: click>=7.0 in /usr/local/lib/python3.11/dist-packages (from uvicorn) (8.1.8)\n",
            "Requirement already satisfied: h11>=0.8 in /usr/local/lib/python3.11/dist-packages (from uvicorn) (0.16.0)\n",
            "Requirement already satisfied: PyYAML>=5.1 in /usr/local/lib/python3.11/dist-packages (from pyngrok) (6.0.2)\n",
            "Requirement already satisfied: annotated-types>=0.6.0 in /usr/local/lib/python3.11/dist-packages (from pydantic!=1.8,!=1.8.1,!=2.0.0,!=2.0.1,!=2.1.0,<3.0.0,>=1.7.4->fastapi) (0.7.0)\n",
            "Requirement already satisfied: pydantic-core==2.33.2 in /usr/local/lib/python3.11/dist-packages (from pydantic!=1.8,!=1.8.1,!=2.0.0,!=2.0.1,!=2.1.0,<3.0.0,>=1.7.4->fastapi) (2.33.2)\n",
            "Requirement already satisfied: typing-inspection>=0.4.0 in /usr/local/lib/python3.11/dist-packages (from pydantic!=1.8,!=1.8.1,!=2.0.0,!=2.0.1,!=2.1.0,<3.0.0,>=1.7.4->fastapi) (0.4.0)\n",
            "Requirement already satisfied: anyio<5,>=3.6.2 in /usr/local/lib/python3.11/dist-packages (from starlette<0.47.0,>=0.40.0->fastapi) (4.9.0)\n",
            "Requirement already satisfied: idna>=2.8 in /usr/local/lib/python3.11/dist-packages (from anyio<5,>=3.6.2->starlette<0.47.0,>=0.40.0->fastapi) (3.10)\n",
            "Requirement already satisfied: sniffio>=1.1 in /usr/local/lib/python3.11/dist-packages (from anyio<5,>=3.6.2->starlette<0.47.0,>=0.40.0->fastapi) (1.3.1)\n",
            "Downloading python_multipart-0.0.20-py3-none-any.whl (24 kB)\n",
            "Installing collected packages: python-multipart\n",
            "Successfully installed python-multipart-0.0.20\n"
          ]
        }
      ]
    },
    {
      "cell_type": "code",
      "source": [
        "%%writefile app.py\n",
        "from fastapi import FastAPI, File, UploadFile\n",
        "import pandas as pd\n",
        "import joblib\n",
        "from io import BytesIO\n",
        "app = FastAPI()\n",
        "# Загрузка обученной модели\n",
        "model_path = \"/content/drive/MyDrive/laptop_price_model.pkl\"  # Убедитесь, что модель доступна по этому пути\n",
        "model = joblib.load(model_path)\n",
        "@app.post(\"/predict/\")\n",
        "async def predict(file: UploadFile = File(...)):\n",
        "    content = await file.read()\n",
        "    df = pd.read_csv(BytesIO(content))\n",
        "    predictions = model.predict(df)\n",
        "    return {\"predictions\": predictions.tolist()}\n"
      ],
      "metadata": {
        "colab": {
          "base_uri": "https://localhost:8080/"
        },
        "id": "guHw4tri4PoP",
        "outputId": "2328cdb5-5fe5-46d0-e642-5626c5c77a2f"
      },
      "execution_count": 22,
      "outputs": [
        {
          "output_type": "stream",
          "name": "stdout",
          "text": [
            "Writing app.py\n"
          ]
        }
      ]
    },
    {
      "cell_type": "code",
      "source": [
        "!ngrok config add-authtoken 2x3JZkZbpySqN0s23bYhePDhnSU_2j7KDwYbHTwFTMCSwfKgQ"
      ],
      "metadata": {
        "colab": {
          "base_uri": "https://localhost:8080/"
        },
        "id": "icDmAfw36PPg",
        "outputId": "da0fe1af-d075-4a13-a3fe-8bde274a6ff3"
      },
      "execution_count": 23,
      "outputs": [
        {
          "output_type": "stream",
          "name": "stdout",
          "text": [
            "Authtoken saved to configuration file: /root/.config/ngrok/ngrok.yml\n"
          ]
        }
      ]
    },
    {
      "cell_type": "code",
      "source": [
        "!nohup uvicorn app:app --host 0.0.0.0 --port 8000 --reload > fastapi.log 2>&1 &"
      ],
      "metadata": {
        "id": "3eWO0x3N6Vz9"
      },
      "execution_count": 24,
      "outputs": []
    },
    {
      "cell_type": "code",
      "source": [
        "from pyngrok import ngrok\n",
        "# Получаем публичный URL для доступа к API\n",
        "public_url = ngrok.connect(8000)\n",
        "print(\"API доступно по адресу:\", public_url)\n"
      ],
      "metadata": {
        "colab": {
          "base_uri": "https://localhost:8080/"
        },
        "id": "hSur4LJM6bAK",
        "outputId": "829ee854-ab13-4798-d2ab-c3b13153b8a1"
      },
      "execution_count": 25,
      "outputs": [
        {
          "output_type": "stream",
          "name": "stdout",
          "text": [
            "API доступно по адресу: NgrokTunnel: \"https://e213-35-237-255-99.ngrok-free.app\" -> \"http://localhost:8000\"\n"
          ]
        }
      ]
    }
  ]
}